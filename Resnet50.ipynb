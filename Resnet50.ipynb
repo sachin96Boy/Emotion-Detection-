{
  "nbformat": 4,
  "nbformat_minor": 0,
  "metadata": {
    "kernelspec": {
      "language": "python",
      "display_name": "Python 3",
      "name": "python3"
    },
    "language_info": {
      "name": "python",
      "version": "3.7.9",
      "mimetype": "text/x-python",
      "codemirror_mode": {
        "name": "ipython",
        "version": 3
      },
      "pygments_lexer": "ipython3",
      "nbconvert_exporter": "python",
      "file_extension": ".py"
    },
    "colab": {
      "name": "Resnet50.ipynb",
      "provenance": [],
      "include_colab_link": true
    }
  },
  "cells": [
    {
      "cell_type": "markdown",
      "metadata": {
        "id": "view-in-github",
        "colab_type": "text"
      },
      "source": [
        "<a href=\"https://colab.research.google.com/github/vaishnavipatil29/Emotion-Detection-/blob/main/Resnet50.ipynb\" target=\"_parent\"><img src=\"https://colab.research.google.com/assets/colab-badge.svg\" alt=\"Open In Colab\"/></a>"
      ]
    },
    {
      "cell_type": "code",
      "metadata": {
        "trusted": true,
        "id": "IEp61vreDGfo",
        "outputId": "3161eb15-cb8f-4000-bf6e-505613ab21e1"
      },
      "source": [
        "import numpy as np\n",
        "import pandas as pd\n",
        "import matplotlib.pyplot as plt\n",
        "import seaborn as sn\n",
        "import skimage.io\n",
        "import keras.backend as K\n",
        "import tensorflow as tf\n",
        "!pip install keras_vggface\n",
        "!pip install keras_applications\n",
        "from tensorflow.keras.preprocessing.image import ImageDataGenerator\n",
        "from tensorflow.keras.applications import ResNet50\n",
        "from tensorflow.keras.layers import Dense, Flatten, Dropout,BatchNormalization ,Activation\n",
        "from tensorflow.keras.models import Model, Sequential\n",
        "from keras.applications.nasnet import NASNetLarge\n",
        "from tensorflow.keras.callbacks import ReduceLROnPlateau, ModelCheckpoint, EarlyStopping\n",
        "from tensorflow.keras.optimizers import Adam\n",
        "from keras.layers import Input, Flatten, Dense, Activation, Conv2D, MaxPool2D, BatchNormalization, Dropout, MaxPooling2D\n",
        "from keras_vggface.vggface import VGGFace"
      ],
      "execution_count": null,
      "outputs": [
        {
          "output_type": "stream",
          "text": [
            "Requirement already satisfied: keras_vggface in /opt/conda/lib/python3.7/site-packages (0.6)\n",
            "Requirement already satisfied: scipy>=0.14 in /opt/conda/lib/python3.7/site-packages (from keras_vggface) (1.5.4)\n",
            "Requirement already satisfied: pyyaml in /opt/conda/lib/python3.7/site-packages (from keras_vggface) (5.3.1)\n",
            "Requirement already satisfied: h5py in /opt/conda/lib/python3.7/site-packages (from keras_vggface) (2.10.0)\n",
            "Requirement already satisfied: pillow in /opt/conda/lib/python3.7/site-packages (from keras_vggface) (7.2.0)\n",
            "Requirement already satisfied: keras in /opt/conda/lib/python3.7/site-packages (from keras_vggface) (2.4.3)\n",
            "Requirement already satisfied: six>=1.9.0 in /opt/conda/lib/python3.7/site-packages (from keras_vggface) (1.15.0)\n",
            "Requirement already satisfied: numpy>=1.9.1 in /opt/conda/lib/python3.7/site-packages (from keras_vggface) (1.19.5)\n",
            "Collecting keras_applications\n",
            "  Downloading Keras_Applications-1.0.8-py3-none-any.whl (50 kB)\n",
            "\u001b[K     |████████████████████████████████| 50 kB 2.5 MB/s eta 0:00:011\n",
            "\u001b[?25hRequirement already satisfied: h5py in /opt/conda/lib/python3.7/site-packages (from keras_applications) (2.10.0)\n",
            "Requirement already satisfied: numpy>=1.9.1 in /opt/conda/lib/python3.7/site-packages (from keras_applications) (1.19.5)\n",
            "Requirement already satisfied: six in /opt/conda/lib/python3.7/site-packages (from h5py->keras_applications) (1.15.0)\n",
            "Installing collected packages: keras-applications\n",
            "Successfully installed keras-applications-1.0.8\n"
          ],
          "name": "stdout"
        }
      ]
    },
    {
      "cell_type": "code",
      "metadata": {
        "trusted": true,
        "id": "s1-1Tl0WDGf0"
      },
      "source": [
        "train_datagen = ImageDataGenerator(rescale = 1./255,\n",
        "                                   validation_split = 0.2,\n",
        "                                  \n",
        "        rotation_range=5,\n",
        "        width_shift_range=0.2,\n",
        "        height_shift_range=0.2,\n",
        "        shear_range=0.2,\n",
        "        #zoom_range=0.2,\n",
        "        horizontal_flip=True,\n",
        "        vertical_flip=True,\n",
        "        fill_mode='nearest')\n",
        "\n",
        "valid_datagen = ImageDataGenerator(rescale = 1./255,\n",
        "                                  validation_split = 0.2)\n",
        "\n",
        "test_datagen  = ImageDataGenerator(rescale = 1./255\n",
        "                                  )"
      ],
      "execution_count": null,
      "outputs": []
    },
    {
      "cell_type": "code",
      "metadata": {
        "trusted": true,
        "id": "jS4VGhf7DGf1",
        "outputId": "2de70475-afed-4c30-e30a-dcea86f577b4"
      },
      "source": [
        "train_dataset  = train_datagen.flow_from_directory(directory = '../input/fer2013/train',\n",
        "                                                   target_size = (48,48),\n",
        "                                                   class_mode = 'categorical',\n",
        "                                                   subset = 'training',\n",
        "                                                   batch_size = 64)"
      ],
      "execution_count": null,
      "outputs": [
        {
          "output_type": "stream",
          "text": [
            "Found 22968 images belonging to 7 classes.\n"
          ],
          "name": "stdout"
        }
      ]
    },
    {
      "cell_type": "code",
      "metadata": {
        "trusted": true,
        "id": "lOJrAC5qDGf2",
        "outputId": "80358851-5eae-499e-bfc6-581bcf4311c9"
      },
      "source": [
        "valid_dataset = valid_datagen.flow_from_directory(directory = '../input/fer2013/train',\n",
        "                                                  target_size = (48,48),\n",
        "                                                  class_mode = 'categorical',\n",
        "                                                  subset = 'validation',\n",
        "                                                  batch_size = 64)"
      ],
      "execution_count": null,
      "outputs": [
        {
          "output_type": "stream",
          "text": [
            "Found 5741 images belonging to 7 classes.\n"
          ],
          "name": "stdout"
        }
      ]
    },
    {
      "cell_type": "code",
      "metadata": {
        "trusted": true,
        "id": "HkM7f2xODGf2",
        "outputId": "bc3f7be4-8b90-488e-a9ad-208a6550b66f"
      },
      "source": [
        "test_dataset = test_datagen.flow_from_directory(directory = '../input/fer2013/test',\n",
        "                                                  target_size = (48,48),\n",
        "                                                  class_mode = 'categorical',\n",
        "                                                  batch_size = 64)"
      ],
      "execution_count": null,
      "outputs": [
        {
          "output_type": "stream",
          "text": [
            "Found 7178 images belonging to 7 classes.\n"
          ],
          "name": "stdout"
        }
      ]
    },
    {
      "cell_type": "code",
      "metadata": {
        "trusted": true,
        "id": "OwZsvPDTDGf3",
        "outputId": "385b5335-db08-4106-8e58-d0fdab5deda2"
      },
      "source": [
        "from keras.preprocessing import image\n",
        "img = image.load_img(\"../input/fer2013/test/angry/PrivateTest_10131363.jpg\",target_size=(48,48))\n",
        "img = np.array(img)\n",
        "plt.imshow(img)\n",
        "print(img.shape)\n",
        "\n",
        "img = np.expand_dims(img, axis=0)\n",
        "from keras.models import load_model\n",
        "print(img.shape)"
      ],
      "execution_count": null,
      "outputs": [
        {
          "output_type": "stream",
          "text": [
            "(48, 48, 3)\n",
            "(1, 48, 48, 3)\n"
          ],
          "name": "stdout"
        },
        {
          "output_type": "display_data",
          "data": {
            "text/plain": [
              "<Figure size 432x288 with 1 Axes>"
            ],
            "image/png": "[encoded data removed]"
          },
          "metadata": {
            "tags": [],
            "needs_background": "light"
          }
        }
      ]
    },
    {
      "cell_type": "code",
      "metadata": {
        "trusted": true,
        "id": "hwqNqpvEDGf4",
        "outputId": "bf01f415-59cb-42f3-fcb9-f3057a5db8ce"
      },
      "source": [
        "base_model = tf.keras.applications.ResNet50(input_shape=(48,48,3),include_top=False,weights=\"imagenet\")"
      ],
      "execution_count": null,
      "outputs": [
        {
          "output_type": "stream",
          "text": [
            "Downloading data from https://storage.googleapis.com/tensorflow/keras-applications/resnet/resnet50_weights_tf_dim_ordering_tf_kernels_notop.h5\n",
            "94773248/94765736 [==============================] - 1s 0us/step\n"
          ],
          "name": "stdout"
        }
      ]
    },
    {
      "cell_type": "markdown",
      "metadata": {
        "id": "W8Y8rIZXDGf5"
      },
      "source": [
        "![image.png](attachment:3dbc5d0f-9e33-48c9-9569-eb402e036002.png)![image.png](attachment:7d00b935-9bb2-4fb3-8ad0-eff47d9aab1a.png)"
      ]
    },
    {
      "cell_type": "code",
      "metadata": {
        "trusted": true,
        "id": "WkOjcL5fDGf5"
      },
      "source": [
        "# Freezing Layers\n",
        "\n",
        "for layer in base_model.layers[:-4]:\n",
        "    layer.trainable=False"
      ],
      "execution_count": null,
      "outputs": []
    },
    {
      "cell_type": "code",
      "metadata": {
        "trusted": true,
        "id": "7PHAwol0DGf5"
      },
      "source": [
        "# Building Model\n",
        "\n",
        "model=Sequential()\n",
        "model.add(base_model)\n",
        "model.add(Flatten())\n",
        "model.add(Dropout(0.5))\n",
        "model.add(Dense(4096,activation='relu'))\n",
        "model.add(Dropout(0.5))\n",
        "model.add(Dense(1094,activation='relu'))\n",
        "model.add(Dropout(0.5))\n",
        "model.add(Dense(7,activation='softmax'))"
      ],
      "execution_count": null,
      "outputs": []
    },
    {
      "cell_type": "code",
      "metadata": {
        "trusted": true,
        "id": "qQ_3tcu4DGf6",
        "outputId": "e3df46ae-f2c8-44d5-b4f3-dde96591f442"
      },
      "source": [
        "# Model Summary\n",
        "\n",
        "model.summary()"
      ],
      "execution_count": null,
      "outputs": [
        {
          "output_type": "stream",
          "text": [
            "Model: \"sequential\"\n",
            "_________________________________________________________________\n",
            "Layer (type)                 Output Shape              Param #   \n",
            "=================================================================\n",
            "resnet50 (Functional)        (None, 2, 2, 2048)        23587712  \n",
            "_________________________________________________________________\n",
            "flatten (Flatten)            (None, 8192)              0         \n",
            "_________________________________________________________________\n",
            "dropout (Dropout)            (None, 8192)              0         \n",
            "_________________________________________________________________\n",
            "dense (Dense)                (None, 4096)              33558528  \n",
            "_________________________________________________________________\n",
            "dropout_1 (Dropout)          (None, 4096)              0         \n",
            "_________________________________________________________________\n",
            "dense_1 (Dense)              (None, 1094)              4482118   \n",
            "_________________________________________________________________\n",
            "dropout_2 (Dropout)          (None, 1094)              0         \n",
            "_________________________________________________________________\n",
            "dense_2 (Dense)              (None, 7)                 7665      \n",
            "=================================================================\n",
            "Total params: 61,636,023\n",
            "Trainable params: 39,103,031\n",
            "Non-trainable params: 22,532,992\n",
            "_________________________________________________________________\n"
          ],
          "name": "stdout"
        }
      ]
    },
    {
      "cell_type": "code",
      "metadata": {
        "trusted": true,
        "id": "b220z4wIDGf6"
      },
      "source": [
        "def f1_score(y_true, y_pred): #taken from old keras source code\n",
        "    true_positives = K.sum(K.round(K.clip(y_true * y_pred, 0, 1)))\n",
        "    possible_positives = K.sum(K.round(K.clip(y_true, 0, 1)))\n",
        "    predicted_positives = K.sum(K.round(K.clip(y_pred, 0, 1)))\n",
        "    precision = true_positives / (predicted_positives + K.epsilon())\n",
        "    recall = true_positives / (possible_positives + K.epsilon())\n",
        "    f1_val = 2*(precision*recall)/(precision+recall+K.epsilon())\n",
        "    return f1_val"
      ],
      "execution_count": null,
      "outputs": []
    },
    {
      "cell_type": "code",
      "metadata": {
        "trusted": true,
        "id": "V0MCzVXODGf7"
      },
      "source": [
        "METRICS = [\n",
        "      tf.keras.metrics.BinaryAccuracy(name='accuracy'),\n",
        "      tf.keras.metrics.Precision(name='precision'),\n",
        "      tf.keras.metrics.Recall(name='recall'),  \n",
        "      tf.keras.metrics.AUC(name='auc'),\n",
        "        f1_score,\n",
        "]"
      ],
      "execution_count": null,
      "outputs": []
    },
    {
      "cell_type": "code",
      "metadata": {
        "trusted": true,
        "id": "xcAfxxKYDGf7"
      },
      "source": [
        "lrd = ReduceLROnPlateau(monitor = 'val_loss',patience = 20,verbose = 1,factor = 0.50, min_lr = 1e-10)\n",
        "\n",
        "mcp = ModelCheckpoint('model.h5')\n",
        "\n",
        "es = EarlyStopping(verbose=1, patience=20)"
      ],
      "execution_count": null,
      "outputs": []
    },
    {
      "cell_type": "code",
      "metadata": {
        "trusted": true,
        "id": "m2x1XGSRDGf7"
      },
      "source": [
        "model.compile(optimizer='Adam', loss='categorical_crossentropy',metrics=METRICS)"
      ],
      "execution_count": null,
      "outputs": []
    },
    {
      "cell_type": "code",
      "metadata": {
        "trusted": true,
        "id": "F6f6xVW8DGf7",
        "outputId": "c981e81f-a075-49cb-a216-69830015187a"
      },
      "source": [
        "history=model.fit(train_dataset,validation_data=valid_dataset,epochs = 5,verbose = 1,callbacks=[lrd,mcp,es])"
      ],
      "execution_count": null,
      "outputs": [
        {
          "output_type": "stream",
          "text": [
            "Epoch 1/5\n",
            "359/359 [==============================] - 152s 406ms/step - loss: 2.7562 - accuracy: 0.8459 - precision: 0.1756 - recall: 0.0210 - auc: 0.6062 - f1_score: 0.0253 - val_loss: 1.8128 - val_accuracy: 0.8571 - val_precision: 0.0000e+00 - val_recall: 0.0000e+00 - val_auc: 0.6477 - val_f1_score: 0.0000e+00\n",
            "Epoch 2/5\n",
            "359/359 [==============================] - 40s 112ms/step - loss: 1.8309 - accuracy: 0.8571 - precision: 0.3310 - recall: 3.0243e-04 - auc: 0.6330 - f1_score: 5.9535e-04 - val_loss: 1.8069 - val_accuracy: 0.8571 - val_precision: 0.0000e+00 - val_recall: 0.0000e+00 - val_auc: 0.6489 - val_f1_score: 0.0000e+00\n",
            "Epoch 3/5\n",
            "359/359 [==============================] - 40s 111ms/step - loss: 1.8268 - accuracy: 0.8571 - precision: 0.1402 - recall: 9.6500e-05 - auc: 0.6370 - f1_score: 1.8934e-04 - val_loss: 1.8075 - val_accuracy: 0.8571 - val_precision: 0.0000e+00 - val_recall: 0.0000e+00 - val_auc: 0.6537 - val_f1_score: 0.0000e+00\n",
            "Epoch 4/5\n",
            "359/359 [==============================] - 39s 110ms/step - loss: 1.8245 - accuracy: 0.8571 - precision: 0.3263 - recall: 1.7419e-04 - auc: 0.6375 - f1_score: 3.4030e-04 - val_loss: 1.8039 - val_accuracy: 0.8571 - val_precision: 0.0000e+00 - val_recall: 0.0000e+00 - val_auc: 0.6542 - val_f1_score: 0.0000e+00\n",
            "Epoch 5/5\n",
            "359/359 [==============================] - 39s 110ms/step - loss: 1.8199 - accuracy: 0.8571 - precision: 0.0211 - recall: 4.8367e-06 - auc: 0.6407 - f1_score: 9.3768e-06 - val_loss: 1.8071 - val_accuracy: 0.8571 - val_precision: 0.0000e+00 - val_recall: 0.0000e+00 - val_auc: 0.6600 - val_f1_score: 0.0000e+00\n"
          ],
          "name": "stdout"
        }
      ]
    },
    {
      "cell_type": "code",
      "metadata": {
        "trusted": true,
        "id": "l1T3_mv9DGf8",
        "outputId": "b876ca9c-f2d5-4b5f-d6fe-5b6e6d22240d"
      },
      "source": [
        "history=model.fit(train_dataset,validation_data=valid_dataset,epochs = 10,verbose = 1,callbacks=[lrd,mcp,es])"
      ],
      "execution_count": null,
      "outputs": [
        {
          "output_type": "stream",
          "text": [
            "Epoch 1/10\n",
            "359/359 [==============================] - 39s 110ms/step - loss: 1.8187 - accuracy: 0.8571 - precision: 0.0000e+00 - recall: 0.0000e+00 - auc: 0.6428 - f1_score: 0.0000e+00 - val_loss: 1.8069 - val_accuracy: 0.8571 - val_precision: 0.0000e+00 - val_recall: 0.0000e+00 - val_auc: 0.6610 - val_f1_score: 0.0000e+00\n",
            "Epoch 2/10\n",
            "359/359 [==============================] - 40s 111ms/step - loss: 1.8170 - accuracy: 0.8571 - precision: 0.1000 - recall: 4.3539e-05 - auc: 0.6447 - f1_score: 8.5708e-05 - val_loss: 1.8044 - val_accuracy: 0.8571 - val_precision: 0.0000e+00 - val_recall: 0.0000e+00 - val_auc: 0.6546 - val_f1_score: 0.0000e+00\n",
            "Epoch 3/10\n",
            "359/359 [==============================] - 39s 109ms/step - loss: 1.8168 - accuracy: 0.8571 - precision: 0.3333 - recall: 4.3539e-05 - auc: 0.6454 - f1_score: 8.5708e-05 - val_loss: 1.7879 - val_accuracy: 0.8571 - val_precision: 0.0000e+00 - val_recall: 0.0000e+00 - val_auc: 0.6734 - val_f1_score: 0.0000e+00\n",
            "Epoch 4/10\n",
            "359/359 [==============================] - 40s 111ms/step - loss: 1.8103 - accuracy: 0.8571 - precision: 0.4667 - recall: 3.0477e-04 - auc: 0.6489 - f1_score: 5.9996e-04 - val_loss: 1.7862 - val_accuracy: 0.8571 - val_precision: 0.0000e+00 - val_recall: 0.0000e+00 - val_auc: 0.6684 - val_f1_score: 0.0000e+00\n",
            "Epoch 5/10\n",
            "359/359 [==============================] - 39s 110ms/step - loss: 1.8094 - accuracy: 0.8571 - precision: 0.3750 - recall: 1.3062e-04 - auc: 0.6492 - f1_score: 2.5583e-04 - val_loss: 1.7931 - val_accuracy: 0.8571 - val_precision: 0.0000e+00 - val_recall: 0.0000e+00 - val_auc: 0.6693 - val_f1_score: 0.0000e+00\n",
            "Epoch 6/10\n",
            "359/359 [==============================] - 40s 111ms/step - loss: 1.8099 - accuracy: 0.8571 - precision: 0.3333 - recall: 1.3062e-04 - auc: 0.6496 - f1_score: 2.5712e-04 - val_loss: 1.7925 - val_accuracy: 0.8571 - val_precision: 0.0000e+00 - val_recall: 0.0000e+00 - val_auc: 0.6634 - val_f1_score: 0.0000e+00\n",
            "Epoch 7/10\n",
            "359/359 [==============================] - 40s 111ms/step - loss: 1.8083 - accuracy: 0.8571 - precision: 0.0000e+00 - recall: 0.0000e+00 - auc: 0.6500 - f1_score: 0.0000e+00 - val_loss: 1.7919 - val_accuracy: 0.8571 - val_precision: 0.0000e+00 - val_recall: 0.0000e+00 - val_auc: 0.6707 - val_f1_score: 0.0000e+00\n",
            "Epoch 8/10\n",
            "359/359 [==============================] - 40s 110ms/step - loss: 1.8074 - accuracy: 0.8571 - precision: 0.1500 - recall: 1.3062e-04 - auc: 0.6500 - f1_score: 2.5712e-04 - val_loss: 1.7908 - val_accuracy: 0.8571 - val_precision: 0.0000e+00 - val_recall: 0.0000e+00 - val_auc: 0.6692 - val_f1_score: 0.0000e+00\n",
            "Epoch 9/10\n",
            "359/359 [==============================] - 40s 110ms/step - loss: 1.8073 - accuracy: 0.8571 - precision: 0.0769 - recall: 4.3539e-05 - auc: 0.6502 - f1_score: 8.5708e-05 - val_loss: 1.7938 - val_accuracy: 0.8571 - val_precision: 0.0000e+00 - val_recall: 0.0000e+00 - val_auc: 0.6697 - val_f1_score: 0.0000e+00\n",
            "Epoch 10/10\n",
            "359/359 [==============================] - 40s 111ms/step - loss: 1.8057 - accuracy: 0.8571 - precision: 0.2857 - recall: 8.7078e-05 - auc: 0.6516 - f1_score: 1.7142e-04 - val_loss: 1.7851 - val_accuracy: 0.8571 - val_precision: 0.0000e+00 - val_recall: 0.0000e+00 - val_auc: 0.6734 - val_f1_score: 0.0000e+00\n"
          ],
          "name": "stdout"
        }
      ]
    },
    {
      "cell_type": "code",
      "metadata": {
        "trusted": true,
        "id": "QsiX1wKLDGf8"
      },
      "source": [
        "#%% PLOTTING RESULTS (Train vs Validation FOLDER 1)\n",
        "\n",
        "def Train_Val_Plot(acc,val_acc,loss,val_loss,auc,val_auc,precision,val_precision,f1,val_f1):\n",
        "    \n",
        "    fig, (ax1, ax2,ax3,ax4,ax5) = plt.subplots(1,5, figsize= (20,5))\n",
        "    fig.suptitle(\" MODEL'S METRICS VISUALIZATION \")\n",
        "\n",
        "    ax1.plot(range(1, len(acc) + 1), acc)\n",
        "    ax1.plot(range(1, len(val_acc) + 1), val_acc)\n",
        "    ax1.set_title('History of Accuracy')\n",
        "    ax1.set_xlabel('Epochs')\n",
        "    ax1.set_ylabel('Accuracy')\n",
        "    ax1.legend(['training', 'validation'])\n",
        "\n",
        "\n",
        "    ax2.plot(range(1, len(loss) + 1), loss)\n",
        "    ax2.plot(range(1, len(val_loss) + 1), val_loss)\n",
        "    ax2.set_title('History of Loss')\n",
        "    ax2.set_xlabel('Epochs')\n",
        "    ax2.set_ylabel('Loss')\n",
        "    ax2.legend(['training', 'validation'])\n",
        "    \n",
        "    ax3.plot(range(1, len(auc) + 1), auc)\n",
        "    ax3.plot(range(1, len(val_auc) + 1), val_auc)\n",
        "    ax3.set_title('History of AUC')\n",
        "    ax3.set_xlabel('Epochs')\n",
        "    ax3.set_ylabel('AUC')\n",
        "    ax3.legend(['training', 'validation'])\n",
        "    \n",
        "    ax4.plot(range(1, len(precision) + 1), precision)\n",
        "    ax4.plot(range(1, len(val_precision) + 1), val_precision)\n",
        "    ax4.set_title('History of Precision')\n",
        "    ax4.set_xlabel('Epochs')\n",
        "    ax4.set_ylabel('Precision')\n",
        "    ax4.legend(['training', 'validation'])\n",
        "    \n",
        "    ax5.plot(range(1, len(f1) + 1), f1)\n",
        "    ax5.plot(range(1, len(val_f1) + 1), val_f1)\n",
        "    ax5.set_title('History of F1-score')\n",
        "    ax5.set_xlabel('Epochs')\n",
        "    ax5.set_ylabel('F1 score')\n",
        "    ax5.legend(['training', 'validation'])\n",
        "\n",
        "\n",
        "    plt.show()\n",
        "    \n",
        "\n",
        "Train_Val_Plot(history.history['accuracy'],history.history['val_accuracy'],\n",
        "               history.history['loss'],history.history['val_loss'],\n",
        "               history.history['auc'],history.history['val_auc'],\n",
        "               history.history['precision'],history.history['val_precision'],\n",
        "               history.history['f1_score'],history.history['val_f1_score']\n",
        "              )"
      ],
      "execution_count": null,
      "outputs": []
    }
  ]
}